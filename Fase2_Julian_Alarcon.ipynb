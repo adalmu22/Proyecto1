{
 "cells": [
  {
   "cell_type": "markdown",
   "id": "d2198a68",
   "metadata": {},
   "source": [
    "# Ejercicio 1"
   ]
  },
  {
   "cell_type": "code",
   "execution_count": 36,
   "id": "a7f5336f",
   "metadata": {},
   "outputs": [],
   "source": [
    "def multiplicacion (a,b):\n",
    "    resultado_multi = a * b\n",
    "    return resultado_multi\n"
   ]
  },
  {
   "cell_type": "code",
   "execution_count": 37,
   "id": "181cd44d",
   "metadata": {},
   "outputs": [],
   "source": [
    "def suma (a,b):\n",
    "    resultado_suma = a + b\n",
    "    return resultado_suma\n"
   ]
  },
  {
   "cell_type": "code",
   "execution_count": 40,
   "id": "9d85fb48",
   "metadata": {},
   "outputs": [
    {
     "name": "stdout",
     "output_type": "stream",
     "text": [
      "Ingrese el primer numero: 150\n",
      "Ingrese el segundo numero: 10\n",
      "Resultado:  160\n"
     ]
    }
   ],
   "source": [
    "a = int(input(\"Ingrese el primer numero: \"))\n",
    "b = int(input(\"Ingrese el segundo numero: \"))\n",
    "\n",
    "resultado_multi=multiplicacion(a,b)\n",
    "resultado_suma=suma(a,b)\n",
    "\n",
    "if resultado_multi <= 1000:\n",
    "    print((\"Resultado: \"),resultado_multi)\n",
    "else:\n",
    "    print((\"Resultado: \"),resultado_suma)\n"
   ]
  },
  {
   "cell_type": "markdown",
   "id": "8be48104",
   "metadata": {},
   "source": [
    "# Ejercicio 2 "
   ]
  },
  {
   "cell_type": "code",
   "execution_count": 42,
   "id": "0dc014c7",
   "metadata": {},
   "outputs": [
    {
     "name": "stdout",
     "output_type": "stream",
     "text": [
      "1 2 3 4 5 6 7 8 9 10 11 12 13 14 15 "
     ]
    }
   ],
   "source": [
    "i=0\n",
    "while (i <=14):\n",
    "    i += 1\n",
    "    print (i,end=\" \")"
   ]
  },
  {
   "cell_type": "markdown",
   "id": "6d43ab4e",
   "metadata": {},
   "source": [
    "# Ejercicio 3 "
   ]
  },
  {
   "cell_type": "code",
   "execution_count": 43,
   "id": "71f9bec4",
   "metadata": {},
   "outputs": [
    {
     "name": "stdout",
     "output_type": "stream",
     "text": [
      "1 2 3 4 5 6 7 8 9 10 11 12 13 14 15 "
     ]
    }
   ],
   "source": [
    "for i in range (1,16):\n",
    "    print (i, end=\" \")"
   ]
  },
  {
   "cell_type": "markdown",
   "id": "2dbe41a5",
   "metadata": {},
   "source": [
    "# Ejercicio 4"
   ]
  },
  {
   "cell_type": "code",
   "execution_count": 67,
   "id": "5218e458",
   "metadata": {},
   "outputs": [],
   "source": [
    "def suma_con(a):\n",
    "    suma = 0\n",
    "    for i in range (1, a + 1):\n",
    "        suma += i\n",
    "    return suma"
   ]
  },
  {
   "cell_type": "code",
   "execution_count": 68,
   "id": "93d2458c",
   "metadata": {},
   "outputs": [
    {
     "name": "stdout",
     "output_type": "stream",
     "text": [
      "Escribe un numero: 89\n",
      "La suma es:  4005\n"
     ]
    }
   ],
   "source": [
    "a = int(input(\"Escribe un numero: \"))\n",
    "print((\"La suma es: \"),suma_con(a))"
   ]
  },
  {
   "cell_type": "markdown",
   "id": "a53b3e72",
   "metadata": {},
   "source": [
    "# Ejercicio 5"
   ]
  },
  {
   "cell_type": "code",
   "execution_count": 66,
   "id": "17be3d99",
   "metadata": {},
   "outputs": [
    {
     "name": "stdout",
     "output_type": "stream",
     "text": [
      "Escribe un numero: 5\n",
      "5 x 0 = 0\n",
      "5 x 1 = 5\n",
      "5 x 2 = 10\n",
      "5 x 3 = 15\n",
      "5 x 4 = 20\n",
      "5 x 5 = 25\n",
      "5 x 6 = 30\n",
      "5 x 7 = 35\n",
      "5 x 8 = 40\n",
      "5 x 9 = 45\n",
      "5 x 10 = 50\n"
     ]
    }
   ],
   "source": [
    "a = int(input(\"Escribe un numero: \"))\n",
    "for i in range (0,11):\n",
    "    resul = i*a\n",
    "    print((\"%d x %d = %d\") % (a, i, resul))"
   ]
  },
  {
   "cell_type": "markdown",
   "id": "4360ef5b",
   "metadata": {},
   "source": [
    "# Ejercicio 6"
   ]
  },
  {
   "cell_type": "code",
   "execution_count": 1,
   "id": "b2239002",
   "metadata": {},
   "outputs": [
    {
     "name": "stdout",
     "output_type": "stream",
     "text": [
      "Números de la lista invertidos: [100, 80, 60, 20]\n"
     ]
    }
   ],
   "source": [
    "list = [20, 60, 80, 100]\n",
    "list.reverse()\n",
    "print(\"Números de la lista invertidos:\",list)"
   ]
  },
  {
   "cell_type": "markdown",
   "id": "9174feec",
   "metadata": {},
   "source": [
    "# Ejercicio7 "
   ]
  },
  {
   "cell_type": "code",
   "execution_count": 2,
   "id": "8a41f0ce",
   "metadata": {},
   "outputs": [
    {
     "name": "stdout",
     "output_type": "stream",
     "text": [
      "El máximo número de la lista es: 6969\n"
     ]
    }
   ],
   "source": [
    "lista = [4, 55, 18, 44, 720, 72, 39, 6969, 1]\n",
    "\n",
    "nMax = None\n",
    "\n",
    "for numeros in lista:\n",
    "    if (nMax is None or numeros > nMax):\n",
    "        nMax = numeros\n",
    "\n",
    "print('El máximo número de la lista es:', nMax)"
   ]
  },
  {
   "cell_type": "markdown",
   "id": "135a5254",
   "metadata": {},
   "source": [
    "# Ejercicio 8\n"
   ]
  },
  {
   "cell_type": "code",
   "execution_count": 7,
   "id": "bd336290",
   "metadata": {},
   "outputs": [
    {
     "name": "stdout",
     "output_type": "stream",
     "text": [
      "El string a analizar es:  &#Pr@j3ctE#D4M#&\n",
      "El numero de letras es de:  8\n",
      "El numero de digitos es de:  2\n",
      "El numero de caracteres especiales es de:  6\n"
     ]
    }
   ],
   "source": [
    "s = \"&#Pr@j3ctE#D4M#&\"\n",
    "letras=numeros=especial=0\n",
    "\n",
    "for i in range(len(s)):\n",
    "    if(s[i].isalpha()):\n",
    "        letras = letras+1\n",
    "    elif(s[i].isdigit()):\n",
    "        numeros = numeros+1\n",
    "    else:\n",
    "        especial = especial+1\n",
    "print(\"El string a analizar es: \", s)\n",
    "print(\"El numero de letras es de: \",letras)\n",
    "print(\"El numero de digitos es de: \",numeros)\n",
    "print(\"El numero de caracteres especiales es de: \",especial)"
   ]
  }
 ],
 "metadata": {
  "kernelspec": {
   "display_name": "Python 3 (ipykernel)",
   "language": "python",
   "name": "python3"
  },
  "language_info": {
   "codemirror_mode": {
    "name": "ipython",
    "version": 3
   },
   "file_extension": ".py",
   "mimetype": "text/x-python",
   "name": "python",
   "nbconvert_exporter": "python",
   "pygments_lexer": "ipython3",
   "version": "3.9.12"
  }
 },
 "nbformat": 4,
 "nbformat_minor": 5
}
